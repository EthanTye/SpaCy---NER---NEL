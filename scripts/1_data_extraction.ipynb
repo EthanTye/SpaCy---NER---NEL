{
 "cells": [
  {
   "cell_type": "code",
   "execution_count": 3,
   "id": "fa6d3d2e-08e7-4597-9305-3de1a0883d66",
   "metadata": {},
   "outputs": [],
   "source": [
    "import praw"
   ]
  },
  {
   "cell_type": "code",
   "execution_count": 2,
   "outputs": [],
   "source": [
    "import requests\n",
    "import pandas as pd\n",
    "import numpy as np\n",
    "from tqdm import tqdm"
   ],
   "metadata": {
    "collapsed": false,
    "pycharm": {
     "name": "#%%\n"
    }
   }
  },
  {
   "cell_type": "code",
   "execution_count": 9,
   "outputs": [],
   "source": [
    "def reddit_scrape (subreddit = 'Singapore', utc = 1647150177,\n",
    "                   url = 'https://api.pushshift.io/reddit/search/submission',\n",
    "                   number = 100000):\n",
    "    #setting parameters to extract 1st 100 posts\n",
    "    params = {'subreddit': subreddit,\n",
    "              'size':100, #max number of posts for pullshift api\n",
    "              'before': utc}\n",
    "    res = requests.get(url,params)\n",
    "    data = res.json()\n",
    "    posts = data['data']\n",
    "    # creating a dataframe from the posts scrapped\n",
    "    df = pd.DataFrame(posts)\n",
    "    # creating a loop where as long as the dataframe does not have 5000 posts we will keep pulling 100 posts or the number required to hit 5000 posts, whichever is less\n",
    "    while len(df)< number:\n",
    "        try:\n",
    "            remainder = number-len(df)\n",
    "            # setting the size to either 100 posts or the number required to hit 5k posts\n",
    "            size = np.min((remainder, 100))\n",
    "            # parameters for requests, similar to the initial parameters however cut off date will be based on the date of the last item in the current batch of posts.\n",
    "            params_for_additions = {'subreddit': subreddit,\n",
    "                                    'size': size,\n",
    "                                    'before': df.created_utc.iloc[-1]}\n",
    "\n",
    "            additional_requests = requests.get(url, params_for_additions)\n",
    "            additional_data = additional_requests.json()\n",
    "            additional_posts = additional_data['data']\n",
    "            #Adding newly extracted posts to the created df\n",
    "            df = pd.concat([df, pd.DataFrame(additional_posts)], axis=0)\n",
    "            #dropping any duplicates\n",
    "            df.drop_duplicates(subset = ['title'], keep = 'last', inplace = True)\n",
    "            #resetting index\n",
    "            df.reset_index(inplace = True, drop = True)\n",
    "    #Once X-num unique posts have been created, save data into a csv\n",
    "        except:\n",
    "            pass\n",
    "    df.to_csv(f'{subreddit}.csv')\n",
    "    return(df)"
   ],
   "metadata": {
    "collapsed": false,
    "pycharm": {
     "name": "#%%\n"
    }
   }
  },
  {
   "cell_type": "code",
   "execution_count": 10,
   "outputs": [
    {
     "name": "stdout",
     "output_type": "stream",
     "text": [
      "CPU times: user 5min 41s, sys: 46.1 s, total: 6min 27s\n",
      "Wall time: 2h 22s\n"
     ]
    }
   ],
   "source": [
    "%%time\n",
    "all_subs = reddit_scrape()"
   ],
   "metadata": {
    "collapsed": false,
    "pycharm": {
     "name": "#%%\n"
    }
   }
  },
  {
   "cell_type": "code",
   "execution_count": 5,
   "outputs": [
    {
     "name": "stderr",
     "output_type": "stream",
     "text": [
      "C:\\Users\\Tye_H\\AppData\\Local\\Temp/ipykernel_8704/22619832.py:1: DtypeWarning: Columns (2,4,12,14,15,23,31,65,68,71,72,74,83,84,86,87,89,91,92,93,95,96) have mixed types. Specify dtype option on import or set low_memory=False.\n",
      "  all_subs = pd.read_csv('100k_subs.csv')\n"
     ]
    }
   ],
   "source": [
    "all_subs = pd.read_csv('submission_info.csv')"
   ],
   "metadata": {
    "collapsed": false,
    "pycharm": {
     "name": "#%%\n"
    }
   }
  },
  {
   "cell_type": "code",
   "execution_count": 6,
   "outputs": [],
   "source": [
    "all_subs.to_csv('submission_info.csv')"
   ],
   "metadata": {
    "collapsed": false,
    "pycharm": {
     "name": "#%%\n"
    }
   }
  },
  {
   "cell_type": "code",
   "execution_count": 7,
   "outputs": [],
   "source": [
    "#reddit = praw.Reddit(client_id = 'reddit clied id',\n",
    "                     #client_secret = 'reddit client secret',\n",
    "                     #user_agent = 'reddit username')"
   ],
   "metadata": {
    "collapsed": false,
    "pycharm": {
     "name": "#%%\n"
    }
   }
  },
  {
   "cell_type": "code",
   "execution_count": 8,
   "outputs": [],
   "source": [
    "import warnings\n",
    "warnings.simplefilter(action='ignore', category=FutureWarning)\n",
    "import pandas as pd\n",
    "comments_all = pd.DataFrame(columns=['user', 'comment', 'date_time', 'sub_title'])"
   ],
   "metadata": {
    "collapsed": false,
    "pycharm": {
     "name": "#%%\n"
    }
   }
  },
  {
   "cell_type": "code",
   "execution_count": 9,
   "outputs": [
    {
     "name": "stderr",
     "output_type": "stream",
     "text": [
      "  3%|▎         | 1530/50000 [2:46:50<88:05:44,  6.54s/it]   \n"
     ]
    },
    {
     "ename": "NotFound",
     "evalue": "received 404 HTTP response",
     "output_type": "error",
     "traceback": [
      "\u001B[1;31m---------------------------------------------------------------------------\u001B[0m",
      "\u001B[1;31mNotFound\u001B[0m                                  Traceback (most recent call last)",
      "\u001B[1;32m<timed exec>\u001B[0m in \u001B[0;36m<module>\u001B[1;34m\u001B[0m\n",
      "\u001B[1;32mE:\\anaconda3\\envs\\spacyenv\\lib\\site-packages\\praw\\models\\reddit\\base.py\u001B[0m in \u001B[0;36m__getattr__\u001B[1;34m(self, attribute)\u001B[0m\n\u001B[0;32m     32\u001B[0m         \u001B[1;34m\"\"\"Return the value of `attribute`.\"\"\"\u001B[0m\u001B[1;33m\u001B[0m\u001B[1;33m\u001B[0m\u001B[0m\n\u001B[0;32m     33\u001B[0m         \u001B[1;32mif\u001B[0m \u001B[1;32mnot\u001B[0m \u001B[0mattribute\u001B[0m\u001B[1;33m.\u001B[0m\u001B[0mstartswith\u001B[0m\u001B[1;33m(\u001B[0m\u001B[1;34m\"_\"\u001B[0m\u001B[1;33m)\u001B[0m \u001B[1;32mand\u001B[0m \u001B[1;32mnot\u001B[0m \u001B[0mself\u001B[0m\u001B[1;33m.\u001B[0m\u001B[0m_fetched\u001B[0m\u001B[1;33m:\u001B[0m\u001B[1;33m\u001B[0m\u001B[1;33m\u001B[0m\u001B[0m\n\u001B[1;32m---> 34\u001B[1;33m             \u001B[0mself\u001B[0m\u001B[1;33m.\u001B[0m\u001B[0m_fetch\u001B[0m\u001B[1;33m(\u001B[0m\u001B[1;33m)\u001B[0m\u001B[1;33m\u001B[0m\u001B[1;33m\u001B[0m\u001B[0m\n\u001B[0m\u001B[0;32m     35\u001B[0m             \u001B[1;32mreturn\u001B[0m \u001B[0mgetattr\u001B[0m\u001B[1;33m(\u001B[0m\u001B[0mself\u001B[0m\u001B[1;33m,\u001B[0m \u001B[0mattribute\u001B[0m\u001B[1;33m)\u001B[0m\u001B[1;33m\u001B[0m\u001B[1;33m\u001B[0m\u001B[0m\n\u001B[0;32m     36\u001B[0m         raise AttributeError(\n",
      "\u001B[1;32mE:\\anaconda3\\envs\\spacyenv\\lib\\site-packages\\praw\\models\\reddit\\submission.py\u001B[0m in \u001B[0;36m_fetch\u001B[1;34m(self)\u001B[0m\n\u001B[0;32m    627\u001B[0m \u001B[1;33m\u001B[0m\u001B[0m\n\u001B[0;32m    628\u001B[0m     \u001B[1;32mdef\u001B[0m \u001B[0m_fetch\u001B[0m\u001B[1;33m(\u001B[0m\u001B[0mself\u001B[0m\u001B[1;33m)\u001B[0m\u001B[1;33m:\u001B[0m\u001B[1;33m\u001B[0m\u001B[1;33m\u001B[0m\u001B[0m\n\u001B[1;32m--> 629\u001B[1;33m         \u001B[0mdata\u001B[0m \u001B[1;33m=\u001B[0m \u001B[0mself\u001B[0m\u001B[1;33m.\u001B[0m\u001B[0m_fetch_data\u001B[0m\u001B[1;33m(\u001B[0m\u001B[1;33m)\u001B[0m\u001B[1;33m\u001B[0m\u001B[1;33m\u001B[0m\u001B[0m\n\u001B[0m\u001B[0;32m    630\u001B[0m         \u001B[0msubmission_listing\u001B[0m\u001B[1;33m,\u001B[0m \u001B[0mcomment_listing\u001B[0m \u001B[1;33m=\u001B[0m \u001B[0mdata\u001B[0m\u001B[1;33m\u001B[0m\u001B[1;33m\u001B[0m\u001B[0m\n\u001B[0;32m    631\u001B[0m         \u001B[0mcomment_listing\u001B[0m \u001B[1;33m=\u001B[0m \u001B[0mListing\u001B[0m\u001B[1;33m(\u001B[0m\u001B[0mself\u001B[0m\u001B[1;33m.\u001B[0m\u001B[0m_reddit\u001B[0m\u001B[1;33m,\u001B[0m \u001B[0m_data\u001B[0m\u001B[1;33m=\u001B[0m\u001B[0mcomment_listing\u001B[0m\u001B[1;33m[\u001B[0m\u001B[1;34m\"data\"\u001B[0m\u001B[1;33m]\u001B[0m\u001B[1;33m)\u001B[0m\u001B[1;33m\u001B[0m\u001B[1;33m\u001B[0m\u001B[0m\n",
      "\u001B[1;32mE:\\anaconda3\\envs\\spacyenv\\lib\\site-packages\\praw\\models\\reddit\\submission.py\u001B[0m in \u001B[0;36m_fetch_data\u001B[1;34m(self)\u001B[0m\n\u001B[0;32m    624\u001B[0m         \u001B[0mname\u001B[0m\u001B[1;33m,\u001B[0m \u001B[0mfields\u001B[0m\u001B[1;33m,\u001B[0m \u001B[0mparams\u001B[0m \u001B[1;33m=\u001B[0m \u001B[0mself\u001B[0m\u001B[1;33m.\u001B[0m\u001B[0m_fetch_info\u001B[0m\u001B[1;33m(\u001B[0m\u001B[1;33m)\u001B[0m\u001B[1;33m\u001B[0m\u001B[1;33m\u001B[0m\u001B[0m\n\u001B[0;32m    625\u001B[0m         \u001B[0mpath\u001B[0m \u001B[1;33m=\u001B[0m \u001B[0mAPI_PATH\u001B[0m\u001B[1;33m[\u001B[0m\u001B[0mname\u001B[0m\u001B[1;33m]\u001B[0m\u001B[1;33m.\u001B[0m\u001B[0mformat\u001B[0m\u001B[1;33m(\u001B[0m\u001B[1;33m**\u001B[0m\u001B[0mfields\u001B[0m\u001B[1;33m)\u001B[0m\u001B[1;33m\u001B[0m\u001B[1;33m\u001B[0m\u001B[0m\n\u001B[1;32m--> 626\u001B[1;33m         \u001B[1;32mreturn\u001B[0m \u001B[0mself\u001B[0m\u001B[1;33m.\u001B[0m\u001B[0m_reddit\u001B[0m\u001B[1;33m.\u001B[0m\u001B[0mrequest\u001B[0m\u001B[1;33m(\u001B[0m\u001B[1;34m\"GET\"\u001B[0m\u001B[1;33m,\u001B[0m \u001B[0mpath\u001B[0m\u001B[1;33m,\u001B[0m \u001B[0mparams\u001B[0m\u001B[1;33m)\u001B[0m\u001B[1;33m\u001B[0m\u001B[1;33m\u001B[0m\u001B[0m\n\u001B[0m\u001B[0;32m    627\u001B[0m \u001B[1;33m\u001B[0m\u001B[0m\n\u001B[0;32m    628\u001B[0m     \u001B[1;32mdef\u001B[0m \u001B[0m_fetch\u001B[0m\u001B[1;33m(\u001B[0m\u001B[0mself\u001B[0m\u001B[1;33m)\u001B[0m\u001B[1;33m:\u001B[0m\u001B[1;33m\u001B[0m\u001B[1;33m\u001B[0m\u001B[0m\n",
      "\u001B[1;32mE:\\anaconda3\\envs\\spacyenv\\lib\\site-packages\\praw\\reddit.py\u001B[0m in \u001B[0;36mrequest\u001B[1;34m(self, method, path, params, data, files, json)\u001B[0m\n\u001B[0;32m    883\u001B[0m             \u001B[1;32mraise\u001B[0m \u001B[0mClientException\u001B[0m\u001B[1;33m(\u001B[0m\u001B[1;34m\"At most one of `data` and `json` is supported.\"\u001B[0m\u001B[1;33m)\u001B[0m\u001B[1;33m\u001B[0m\u001B[1;33m\u001B[0m\u001B[0m\n\u001B[0;32m    884\u001B[0m         \u001B[1;32mtry\u001B[0m\u001B[1;33m:\u001B[0m\u001B[1;33m\u001B[0m\u001B[1;33m\u001B[0m\u001B[0m\n\u001B[1;32m--> 885\u001B[1;33m             return self._core.request(\n\u001B[0m\u001B[0;32m    886\u001B[0m                 \u001B[0mmethod\u001B[0m\u001B[1;33m,\u001B[0m\u001B[1;33m\u001B[0m\u001B[1;33m\u001B[0m\u001B[0m\n\u001B[0;32m    887\u001B[0m                 \u001B[0mpath\u001B[0m\u001B[1;33m,\u001B[0m\u001B[1;33m\u001B[0m\u001B[1;33m\u001B[0m\u001B[0m\n",
      "\u001B[1;32mE:\\anaconda3\\envs\\spacyenv\\lib\\site-packages\\prawcore\\sessions.py\u001B[0m in \u001B[0;36mrequest\u001B[1;34m(self, method, path, data, files, json, params, timeout)\u001B[0m\n\u001B[0;32m    328\u001B[0m             \u001B[0mjson\u001B[0m\u001B[1;33m[\u001B[0m\u001B[1;34m\"api_type\"\u001B[0m\u001B[1;33m]\u001B[0m \u001B[1;33m=\u001B[0m \u001B[1;34m\"json\"\u001B[0m\u001B[1;33m\u001B[0m\u001B[1;33m\u001B[0m\u001B[0m\n\u001B[0;32m    329\u001B[0m         \u001B[0murl\u001B[0m \u001B[1;33m=\u001B[0m \u001B[0murljoin\u001B[0m\u001B[1;33m(\u001B[0m\u001B[0mself\u001B[0m\u001B[1;33m.\u001B[0m\u001B[0m_requestor\u001B[0m\u001B[1;33m.\u001B[0m\u001B[0moauth_url\u001B[0m\u001B[1;33m,\u001B[0m \u001B[0mpath\u001B[0m\u001B[1;33m)\u001B[0m\u001B[1;33m\u001B[0m\u001B[1;33m\u001B[0m\u001B[0m\n\u001B[1;32m--> 330\u001B[1;33m         return self._request_with_retries(\n\u001B[0m\u001B[0;32m    331\u001B[0m             \u001B[0mdata\u001B[0m\u001B[1;33m=\u001B[0m\u001B[0mdata\u001B[0m\u001B[1;33m,\u001B[0m\u001B[1;33m\u001B[0m\u001B[1;33m\u001B[0m\u001B[0m\n\u001B[0;32m    332\u001B[0m             \u001B[0mfiles\u001B[0m\u001B[1;33m=\u001B[0m\u001B[0mfiles\u001B[0m\u001B[1;33m,\u001B[0m\u001B[1;33m\u001B[0m\u001B[1;33m\u001B[0m\u001B[0m\n",
      "\u001B[1;32mE:\\anaconda3\\envs\\spacyenv\\lib\\site-packages\\prawcore\\sessions.py\u001B[0m in \u001B[0;36m_request_with_retries\u001B[1;34m(self, data, files, json, method, params, timeout, url, retry_strategy_state)\u001B[0m\n\u001B[0;32m    264\u001B[0m             )\n\u001B[0;32m    265\u001B[0m         \u001B[1;32melif\u001B[0m \u001B[0mresponse\u001B[0m\u001B[1;33m.\u001B[0m\u001B[0mstatus_code\u001B[0m \u001B[1;32min\u001B[0m \u001B[0mself\u001B[0m\u001B[1;33m.\u001B[0m\u001B[0mSTATUS_EXCEPTIONS\u001B[0m\u001B[1;33m:\u001B[0m\u001B[1;33m\u001B[0m\u001B[1;33m\u001B[0m\u001B[0m\n\u001B[1;32m--> 266\u001B[1;33m             \u001B[1;32mraise\u001B[0m \u001B[0mself\u001B[0m\u001B[1;33m.\u001B[0m\u001B[0mSTATUS_EXCEPTIONS\u001B[0m\u001B[1;33m[\u001B[0m\u001B[0mresponse\u001B[0m\u001B[1;33m.\u001B[0m\u001B[0mstatus_code\u001B[0m\u001B[1;33m]\u001B[0m\u001B[1;33m(\u001B[0m\u001B[0mresponse\u001B[0m\u001B[1;33m)\u001B[0m\u001B[1;33m\u001B[0m\u001B[1;33m\u001B[0m\u001B[0m\n\u001B[0m\u001B[0;32m    267\u001B[0m         \u001B[1;32melif\u001B[0m \u001B[0mresponse\u001B[0m\u001B[1;33m.\u001B[0m\u001B[0mstatus_code\u001B[0m \u001B[1;33m==\u001B[0m \u001B[0mcodes\u001B[0m\u001B[1;33m[\u001B[0m\u001B[1;34m\"no_content\"\u001B[0m\u001B[1;33m]\u001B[0m\u001B[1;33m:\u001B[0m\u001B[1;33m\u001B[0m\u001B[1;33m\u001B[0m\u001B[0m\n\u001B[0;32m    268\u001B[0m             \u001B[1;32mreturn\u001B[0m\u001B[1;33m\u001B[0m\u001B[1;33m\u001B[0m\u001B[0m\n",
      "\u001B[1;31mNotFound\u001B[0m: received 404 HTTP response"
     ]
    }
   ],
   "source": [
    "%%time\n",
    "for id in tqdm(all_subs.id[50000:]):\n",
    "    post = reddit.submission(id = id)\n",
    "    post.comments.replace_more(limit = None)\n",
    "    for comments in post.comments.list():\n",
    "        comments_all = comments_all.append({'user' : comments.author,\n",
    "                                            'comment' : comments.body,\n",
    "                                            'date_time': comments.created_utc,\n",
    "                                            'sub_title': post.title},\n",
    "                                           ignore_index = True)"
   ],
   "metadata": {
    "collapsed": false,
    "pycharm": {
     "name": "#%%\n"
    }
   }
  },
  {
   "cell_type": "code",
   "execution_count": 10,
   "outputs": [],
   "source": [
    "comments_all.to_csv('submissions_comments.csv') # full file isnt available on Github due to size limits"
   ],
   "metadata": {
    "collapsed": false,
    "pycharm": {
     "name": "#%%\n"
    }
   }
  },
  {
   "cell_type": "code",
   "execution_count": 11,
   "outputs": [
    {
     "name": "stdout",
     "output_type": "stream",
     "text": [
      "<class 'pandas.core.frame.DataFrame'>\n",
      "RangeIndex: 47201 entries, 0 to 47200\n",
      "Data columns (total 4 columns):\n",
      " #   Column     Non-Null Count  Dtype \n",
      "---  ------     --------------  ----- \n",
      " 0   user       41014 non-null  object\n",
      " 1   comment    47201 non-null  object\n",
      " 2   date_time  47201 non-null  object\n",
      " 3   sub_title  47201 non-null  object\n",
      "dtypes: object(4)\n",
      "memory usage: 1.4+ MB\n"
     ]
    }
   ],
   "source": [
    "comments_all.info()"
   ],
   "metadata": {
    "collapsed": false,
    "pycharm": {
     "name": "#%%\n"
    }
   }
  }
 ],
 "metadata": {
  "kernelspec": {
   "display_name": "Python 3 (ipykernel)",
   "language": "python",
   "name": "python3"
  },
  "language_info": {
   "codemirror_mode": {
    "name": "ipython",
    "version": 3
   },
   "file_extension": ".py",
   "mimetype": "text/x-python",
   "name": "python",
   "nbconvert_exporter": "python",
   "pygments_lexer": "ipython3",
   "version": "3.9.9"
  }
 },
 "nbformat": 4,
 "nbformat_minor": 5
}