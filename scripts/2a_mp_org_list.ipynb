{
 "cells": [
  {
   "cell_type": "code",
   "execution_count": 1,
   "metadata": {
    "collapsed": true
   },
   "outputs": [],
   "source": [
    "#file is to clean the list of politicians and organisations\n",
    "import pandas as pd"
   ]
  },
  {
   "cell_type": "code",
   "execution_count": 2,
   "outputs": [],
   "source": [
    "mp_df = pd.read_csv('../data/mp_list.csv')"
   ],
   "metadata": {
    "collapsed": false,
    "pycharm": {
     "name": "#%%\n"
    }
   }
  },
  {
   "cell_type": "code",
   "execution_count": 3,
   "outputs": [],
   "source": [
    "org_df = pd.read_csv('../data/org_list.csv')"
   ],
   "metadata": {
    "collapsed": false,
    "pycharm": {
     "name": "#%%\n"
    }
   }
  },
  {
   "cell_type": "code",
   "execution_count": 4,
   "outputs": [],
   "source": [
    "mp_df.columns = [column.lower() for column in mp_df.columns]"
   ],
   "metadata": {
    "collapsed": false,
    "pycharm": {
     "name": "#%%\n"
    }
   }
  },
  {
   "cell_type": "code",
   "execution_count": 5,
   "outputs": [],
   "source": [
    "initials_list = []\n",
    "for name in mp_df.mp:\n",
    "    name_parts = name.split(' ')\n",
    "    initials = ''\n",
    "    for part in name_parts:\n",
    "        initials += part[0]\n",
    "    if len(initials)>=2:\n",
    "        initials_list.append(initials)\n",
    "    else: initials_list.append('')"
   ],
   "metadata": {
    "collapsed": false,
    "pycharm": {
     "name": "#%%\n"
    }
   }
  },
  {
   "cell_type": "code",
   "source": [
    "mp_df['initials'] = initials_list"
   ],
   "metadata": {
    "collapsed": false,
    "pycharm": {
     "name": "#%%\n"
    }
   },
   "execution_count": 6,
   "outputs": []
  },
  {
   "cell_type": "code",
   "execution_count": 7,
   "outputs": [],
   "source": [
    "given_name_parts = [[name for name in  names.split(' ')] for names in mp_df.mp]"
   ],
   "metadata": {
    "collapsed": false,
    "pycharm": {
     "name": "#%%\n"
    }
   }
  },
  {
   "cell_type": "code",
   "execution_count": 8,
   "outputs": [],
   "source": [
    "first_names = []\n",
    "last_names = []\n",
    "for names in given_name_parts:\n",
    "    if len(names) == 2:\n",
    "        if names[0] !='K' and names[0] !='S.':\n",
    "            first_names.append(names[0])\n",
    "            last_names.append(names[1])\n",
    "        else:\n",
    "            first_names.append(names[1])\n",
    "            last_names.append('')\n",
    "    elif len(names) >= 4:\n",
    "        first_names.append(names[0:1][0])\n",
    "        last_name = names[2: len(names)]\n",
    "        last_name = \" \".join(last_name)\n",
    "        last_names.append(last_name[0])\n",
    "    else:\n",
    "        first_name = names[1: len(names)]\n",
    "        first_name = \" \".join(first_name)\n",
    "        first_names.append(first_name)\n",
    "        last_names.append(names[0])"
   ],
   "metadata": {
    "collapsed": false,
    "pycharm": {
     "name": "#%%\n"
    }
   }
  },
  {
   "cell_type": "code",
   "execution_count": 9,
   "outputs": [
    {
     "data": {
      "text/plain": "['Alex',\n 'Alvin',\n 'Amy',\n 'Wei Neng',\n 'Yam Keng',\n 'Carrie',\n 'Chun Sing',\n 'Hong Tat',\n 'Li Hui',\n 'Cheryl',\n 'Kee Hiong',\n 'de Souza',\n 'Darryl',\n 'Denise',\n 'Dennis',\n 'Derrick',\n 'Desmond',\n 'Desmond',\n 'Desmond',\n 'Don',\n 'Edward',\n 'Edwin',\n 'Eric',\n 'Mee Har',\n 'Kim Yong',\n 'Siow Huang',\n 'Thiam Poh',\n 'Gerald',\n 'Grace',\n 'Hany',\n 'Hazel',\n 'Ting Ru',\n 'Chee How',\n 'Swee Keat',\n 'Henry',\n 'Indranee',\n 'Jamus',\n 'Janil',\n 'Jessica',\n 'Joan',\n 'Josephine',\n 'Shanmugam',\n 'Poh Koon',\n 'Lawrence',\n 'Hsien Loong',\n 'Leon',\n 'Mun Wai',\n 'Eng Hwa',\n 'Biow Chuan',\n 'Wee Kiak',\n 'Louis',\n 'Louis',\n 'Yen Ling',\n 'Mariam',\n 'Masagos',\n 'Melvin',\n 'Maliki',\n 'Mohamed',\n 'Mohd',\n 'Muhamad',\n 'Faishal Ibrahim',\n 'Pillai SC',\n 'Ahmad Samdin',\n 'Eng Hen',\n 'Ling Ling',\n 'Ye Kung',\n 'Patrick',\n 'Li San',\n 'Pritam',\n 'Rachel',\n 'Raeesah',\n 'Rahayu',\n 'Iswaran',\n 'Saktiandi',\n 'Kian Peng',\n 'Shawn',\n 'Sim',\n 'Yih Pin',\n 'Sun',\n 'Sylvia',\n 'Tan',\n 'Kiat How',\n 'See Leng',\n 'Wu Meng',\n 'Chee Hean',\n 'Tharman',\n 'Pei Ling',\n 'Vikram',\n 'Vivian',\n 'Wan',\n 'Yao Quan',\n 'Wan Ling',\n 'Hon Weng',\n 'Zaqy',\n 'Abdul Rahim']"
     },
     "execution_count": 9,
     "metadata": {},
     "output_type": "execute_result"
    }
   ],
   "source": [
    "first_names"
   ],
   "metadata": {
    "collapsed": false,
    "pycharm": {
     "name": "#%%\n"
    }
   }
  },
  {
   "cell_type": "code",
   "execution_count": 10,
   "outputs": [],
   "source": [
    "mp_df['given_names'] = first_names\n",
    "mp_df['family_names'] = last_names"
   ],
   "metadata": {
    "collapsed": false,
    "pycharm": {
     "name": "#%%\n"
    }
   }
  },
  {
   "cell_type": "code",
   "execution_count": 11,
   "outputs": [],
   "source": [
    "aliases_list = []\n",
    "for alias in mp_df.aliases:\n",
    "    try:\n",
    "        indiv_alias_list = []\n",
    "        for indiv_alias in alias.replace(\"'\", '').split(','):\n",
    "            specific_alias = indiv_alias.strip()\n",
    "            indiv_alias_list.append(specific_alias)\n",
    "        #print(indiv_alias_list)\n",
    "        aliases_list.append(indiv_alias_list)\n",
    "    except:\n",
    "        aliases_list.append([])"
   ],
   "metadata": {
    "collapsed": false,
    "pycharm": {
     "name": "#%%\n"
    }
   }
  },
  {
   "cell_type": "code",
   "execution_count": 12,
   "outputs": [],
   "source": [
    "org_aliase_list = []\n",
    "for alias in org_df.aliases:\n",
    "    try:\n",
    "        indiv_alias_list = []\n",
    "        for indiv_alias in alias.replace(\"'\", '').split(','):\n",
    "            specific_alias = indiv_alias.strip()\n",
    "            indiv_alias_list.append(specific_alias)\n",
    "        org_aliase_list.append(indiv_alias_list)\n",
    "    except:\n",
    "        org_aliase_list.append([])"
   ],
   "metadata": {
    "collapsed": false,
    "pycharm": {
     "name": "#%%\n"
    }
   }
  },
  {
   "cell_type": "code",
   "execution_count": 13,
   "outputs": [],
   "source": [
    "mp_df.aliases = aliases_list\n",
    "org_df.aliases = org_aliase_list"
   ],
   "metadata": {
    "collapsed": false,
    "pycharm": {
     "name": "#%%\n"
    }
   }
  },
  {
   "cell_type": "code",
   "execution_count": 14,
   "outputs": [],
   "source": [
    "mp_df.to_pickle('../data/mplist_clean.pk1')\n",
    "org_df.to_pickle('../data/orglist_clean.pk1')"
   ],
   "metadata": {
    "collapsed": false,
    "pycharm": {
     "name": "#%%\n"
    }
   }
  }
 ],
 "metadata": {
  "kernelspec": {
   "display_name": "Python 3",
   "language": "python",
   "name": "python3"
  },
  "language_info": {
   "codemirror_mode": {
    "name": "ipython",
    "version": 2
   },
   "file_extension": ".py",
   "mimetype": "text/x-python",
   "name": "python",
   "nbconvert_exporter": "python",
   "pygments_lexer": "ipython2",
   "version": "2.7.6"
  }
 },
 "nbformat": 4,
 "nbformat_minor": 0
}