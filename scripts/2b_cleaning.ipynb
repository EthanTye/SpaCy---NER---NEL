{
 "cells": [
  {
   "cell_type": "code",
   "execution_count": 2,
   "metadata": {
    "collapsed": true
   },
   "outputs": [],
   "source": [
    "import pandas as pd"
   ]
  },
  {
   "cell_type": "code",
   "execution_count": 4,
   "outputs": [
    {
     "name": "stderr",
     "output_type": "stream",
     "text": [
      "C:\\Users\\Tye_H\\AppData\\Local\\Temp/ipykernel_98696/886400214.py:1: DtypeWarning: Columns (0) have mixed types. Specify dtype option on import or set low_memory=False.\n",
      "  df = pd.read_csv('../data/comments_large2.csv')\n"
     ]
    }
   ],
   "source": [
    "df = pd.read_csv('../data/submissions_comments.csv')\n",
    "# the full file isnt available on github due to size limitations partial file with 80,000 comments"
   ],
   "metadata": {
    "collapsed": false,
    "pycharm": {
     "name": "#%%\n"
    }
   }
  },
  {
   "cell_type": "code",
   "execution_count": 23,
   "outputs": [
    {
     "data": {
      "text/plain": "  Unnamed: 0        user                                            comment  \\\n0          0      Solyca         Link: https://youtu.be/cQWlnTyOSig&t=13m0s   \n1          1     Xanthon  Polymatter loves Singapore more than most Sing...   \n2          2  Best_Jokur  Can’t watch the video for whatever reason, You...   \n3          3    Worms_sg  Seems like they misunderstood what is going on...   \n4          4   Mellonbun  Reputation ranking begets reputation ranking a...   \n\n      date_time                                          sub_title  \n0  1.647149e+09  NTU used as example of university gaming ranki...  \n1  1.647151e+09  NTU used as example of university gaming ranki...  \n2  1.647159e+09  NTU used as example of university gaming ranki...  \n3  1.647150e+09  NTU used as example of university gaming ranki...  \n4  1.647150e+09  NTU used as example of university gaming ranki...  ",
      "text/html": "<div>\n<style scoped>\n    .dataframe tbody tr th:only-of-type {\n        vertical-align: middle;\n    }\n\n    .dataframe tbody tr th {\n        vertical-align: top;\n    }\n\n    .dataframe thead th {\n        text-align: right;\n    }\n</style>\n<table border=\"1\" class=\"dataframe\">\n  <thead>\n    <tr style=\"text-align: right;\">\n      <th></th>\n      <th>Unnamed: 0</th>\n      <th>user</th>\n      <th>comment</th>\n      <th>date_time</th>\n      <th>sub_title</th>\n    </tr>\n  </thead>\n  <tbody>\n    <tr>\n      <th>0</th>\n      <td>0</td>\n      <td>Solyca</td>\n      <td>Link: https://youtu.be/cQWlnTyOSig&amp;t=13m0s</td>\n      <td>1.647149e+09</td>\n      <td>NTU used as example of university gaming ranki...</td>\n    </tr>\n    <tr>\n      <th>1</th>\n      <td>1</td>\n      <td>Xanthon</td>\n      <td>Polymatter loves Singapore more than most Sing...</td>\n      <td>1.647151e+09</td>\n      <td>NTU used as example of university gaming ranki...</td>\n    </tr>\n    <tr>\n      <th>2</th>\n      <td>2</td>\n      <td>Best_Jokur</td>\n      <td>Can’t watch the video for whatever reason, You...</td>\n      <td>1.647159e+09</td>\n      <td>NTU used as example of university gaming ranki...</td>\n    </tr>\n    <tr>\n      <th>3</th>\n      <td>3</td>\n      <td>Worms_sg</td>\n      <td>Seems like they misunderstood what is going on...</td>\n      <td>1.647150e+09</td>\n      <td>NTU used as example of university gaming ranki...</td>\n    </tr>\n    <tr>\n      <th>4</th>\n      <td>4</td>\n      <td>Mellonbun</td>\n      <td>Reputation ranking begets reputation ranking a...</td>\n      <td>1.647150e+09</td>\n      <td>NTU used as example of university gaming ranki...</td>\n    </tr>\n  </tbody>\n</table>\n</div>"
     },
     "execution_count": 23,
     "metadata": {},
     "output_type": "execute_result"
    }
   ],
   "source": [
    "df.head()"
   ],
   "metadata": {
    "collapsed": false,
    "pycharm": {
     "name": "#%%\n"
    }
   }
  },
  {
   "cell_type": "code",
   "execution_count": 28,
   "outputs": [],
   "source": [
    "df = df[['comment', 'user', 'date_time', 'sub_title']]"
   ],
   "metadata": {
    "collapsed": false,
    "pycharm": {
     "name": "#%%\n"
    }
   }
  },
  {
   "cell_type": "code",
   "execution_count": 32,
   "outputs": [
    {
     "data": {
      "text/plain": "                                                   comment            user  \\\n0               Link: https://youtu.be/cQWlnTyOSig&t=13m0s          Solyca   \n1        Polymatter loves Singapore more than most Sing...         Xanthon   \n2        Can’t watch the video for whatever reason, You...      Best_Jokur   \n3        Seems like they misunderstood what is going on...        Worms_sg   \n4        Reputation ranking begets reputation ranking a...       Mellonbun   \n...                                                    ...             ...   \n1882374  Yepyep. As a part timer, I mostly did commenta...     cforserious   \n1882375                                Epic 讲了等于没讲 from OP             NaN   \n1882376  They could afford more, but just because they ...           yapyd   \n1882377  Same as safe distancing scanner, no? They're p...       Enterland   \n1882378  He has gold plated peanuts while some of us ge...  I_love_pillows   \n\n            date_time                                          sub_title  \n0        1.647149e+09  NTU used as example of university gaming ranki...  \n1        1.647151e+09  NTU used as example of university gaming ranki...  \n2        1.647159e+09  NTU used as example of university gaming ranki...  \n3        1.647150e+09  NTU used as example of university gaming ranki...  \n4        1.647150e+09  NTU used as example of university gaming ranki...  \n...               ...                                                ...  \n1882374  1.604297e+09  To those who have worked part time at Wildlife...  \n1882375  1.604221e+09  To those who have worked part time at Wildlife...  \n1882376  1.604243e+09  To those who have worked part time at Wildlife...  \n1882377  1.604250e+09  To those who have worked part time at Wildlife...  \n1882378  1.604222e+09  To those who have worked part time at Wildlife...  \n\n[1882367 rows x 4 columns]",
      "text/html": "<div>\n<style scoped>\n    .dataframe tbody tr th:only-of-type {\n        vertical-align: middle;\n    }\n\n    .dataframe tbody tr th {\n        vertical-align: top;\n    }\n\n    .dataframe thead th {\n        text-align: right;\n    }\n</style>\n<table border=\"1\" class=\"dataframe\">\n  <thead>\n    <tr style=\"text-align: right;\">\n      <th></th>\n      <th>comment</th>\n      <th>user</th>\n      <th>date_time</th>\n      <th>sub_title</th>\n    </tr>\n  </thead>\n  <tbody>\n    <tr>\n      <th>0</th>\n      <td>Link: https://youtu.be/cQWlnTyOSig&amp;t=13m0s</td>\n      <td>Solyca</td>\n      <td>1.647149e+09</td>\n      <td>NTU used as example of university gaming ranki...</td>\n    </tr>\n    <tr>\n      <th>1</th>\n      <td>Polymatter loves Singapore more than most Sing...</td>\n      <td>Xanthon</td>\n      <td>1.647151e+09</td>\n      <td>NTU used as example of university gaming ranki...</td>\n    </tr>\n    <tr>\n      <th>2</th>\n      <td>Can’t watch the video for whatever reason, You...</td>\n      <td>Best_Jokur</td>\n      <td>1.647159e+09</td>\n      <td>NTU used as example of university gaming ranki...</td>\n    </tr>\n    <tr>\n      <th>3</th>\n      <td>Seems like they misunderstood what is going on...</td>\n      <td>Worms_sg</td>\n      <td>1.647150e+09</td>\n      <td>NTU used as example of university gaming ranki...</td>\n    </tr>\n    <tr>\n      <th>4</th>\n      <td>Reputation ranking begets reputation ranking a...</td>\n      <td>Mellonbun</td>\n      <td>1.647150e+09</td>\n      <td>NTU used as example of university gaming ranki...</td>\n    </tr>\n    <tr>\n      <th>...</th>\n      <td>...</td>\n      <td>...</td>\n      <td>...</td>\n      <td>...</td>\n    </tr>\n    <tr>\n      <th>1882374</th>\n      <td>Yepyep. As a part timer, I mostly did commenta...</td>\n      <td>cforserious</td>\n      <td>1.604297e+09</td>\n      <td>To those who have worked part time at Wildlife...</td>\n    </tr>\n    <tr>\n      <th>1882375</th>\n      <td>Epic 讲了等于没讲 from OP</td>\n      <td>NaN</td>\n      <td>1.604221e+09</td>\n      <td>To those who have worked part time at Wildlife...</td>\n    </tr>\n    <tr>\n      <th>1882376</th>\n      <td>They could afford more, but just because they ...</td>\n      <td>yapyd</td>\n      <td>1.604243e+09</td>\n      <td>To those who have worked part time at Wildlife...</td>\n    </tr>\n    <tr>\n      <th>1882377</th>\n      <td>Same as safe distancing scanner, no? They're p...</td>\n      <td>Enterland</td>\n      <td>1.604250e+09</td>\n      <td>To those who have worked part time at Wildlife...</td>\n    </tr>\n    <tr>\n      <th>1882378</th>\n      <td>He has gold plated peanuts while some of us ge...</td>\n      <td>I_love_pillows</td>\n      <td>1.604222e+09</td>\n      <td>To those who have worked part time at Wildlife...</td>\n    </tr>\n  </tbody>\n</table>\n<p>1882367 rows × 4 columns</p>\n</div>"
     },
     "execution_count": 32,
     "metadata": {},
     "output_type": "execute_result"
    }
   ],
   "source": [
    "df"
   ],
   "metadata": {
    "collapsed": false,
    "pycharm": {
     "name": "#%%\n"
    }
   }
  },
  {
   "cell_type": "code",
   "execution_count": 33,
   "outputs": [],
   "source": [
    "df_no_nulls = df.dropna(subset = 'comment')"
   ],
   "metadata": {
    "collapsed": false,
    "pycharm": {
     "name": "#%%\n"
    }
   }
  },
  {
   "cell_type": "code",
   "execution_count": 34,
   "outputs": [
    {
     "name": "stdout",
     "output_type": "stream",
     "text": [
      "<class 'pandas.core.frame.DataFrame'>\n",
      "Int64Index: 1882367 entries, 0 to 1882378\n",
      "Data columns (total 4 columns):\n",
      " #   Column     Dtype  \n",
      "---  ------     -----  \n",
      " 0   comment    object \n",
      " 1   user       object \n",
      " 2   date_time  float64\n",
      " 3   sub_title  object \n",
      "dtypes: float64(1), object(3)\n",
      "memory usage: 71.8+ MB\n"
     ]
    }
   ],
   "source": [
    "df_no_nulls.info()"
   ],
   "metadata": {
    "collapsed": false,
    "pycharm": {
     "name": "#%%\n"
    }
   }
  },
  {
   "cell_type": "code",
   "execution_count": 35,
   "outputs": [],
   "source": [
    "import redditcleaner"
   ],
   "metadata": {
    "collapsed": false,
    "pycharm": {
     "name": "#%%\n"
    }
   }
  },
  {
   "cell_type": "code",
   "execution_count": 35,
   "outputs": [],
   "source": [],
   "metadata": {
    "collapsed": false,
    "pycharm": {
     "name": "#%%\n"
    }
   }
  },
  {
   "cell_type": "code",
   "execution_count": 36,
   "outputs": [],
   "source": [
    "df['clean_comments'] = df.comment.map(redditcleaner.clean)"
   ],
   "metadata": {
    "collapsed": false,
    "pycharm": {
     "name": "#%%\n"
    }
   }
  },
  {
   "cell_type": "code",
   "execution_count": 39,
   "outputs": [],
   "source": [
    "df.comment = df.clean_comments"
   ],
   "metadata": {
    "collapsed": false,
    "pycharm": {
     "name": "#%%\n"
    }
   }
  },
  {
   "cell_type": "code",
   "execution_count": 5,
   "outputs": [],
   "source": [
    "df.to_pickle('../data/comments_clean.pk1')\n",
    "#full file isnt available on git smaller sample is provided"
   ],
   "metadata": {
    "collapsed": false,
    "pycharm": {
     "name": "#%%\n"
    }
   }
  },
  {
   "cell_type": "code",
   "execution_count": null,
   "outputs": [],
   "source": [],
   "metadata": {
    "collapsed": false,
    "pycharm": {
     "name": "#%%\n"
    }
   }
  }
 ],
 "metadata": {
  "kernelspec": {
   "display_name": "Python 3",
   "language": "python",
   "name": "python3"
  },
  "language_info": {
   "codemirror_mode": {
    "name": "ipython",
    "version": 2
   },
   "file_extension": ".py",
   "mimetype": "text/x-python",
   "name": "python",
   "nbconvert_exporter": "python",
   "pygments_lexer": "ipython2",
   "version": "2.7.6"
  }
 },
 "nbformat": 4,
 "nbformat_minor": 0
}